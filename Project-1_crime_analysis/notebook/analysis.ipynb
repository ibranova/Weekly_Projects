{
 "cells": [
  {
   "cell_type": "markdown",
   "id": "0",
   "metadata": {},
   "source": [
    "# Los Angeles Police Departement Crimes Analysis "
   ]
  },
  {
   "cell_type": "code",
   "execution_count": null,
   "id": "1",
   "metadata": {},
   "outputs": [],
   "source": [
    "#import all the libraries \n",
    "import pandas as pd     \n",
    "import numpy as np  \n",
    "import matplotlib.pyplot as plt     \n",
    "import seaborn as sns \n",
    "import zipfile\n"
   ]
  },
  {
   "cell_type": "code",
   "execution_count": null,
   "id": "2",
   "metadata": {},
   "outputs": [],
   "source": [
    "# Unzip the file (adjust path if needed)\n",
    "zip_path = \"../data/crimes.zip\"\n",
    "with zipfile.ZipFile(zip_path, 'r') as zip_ref:\n",
    "    zip_ref.extractall(\"../data/\")\n",
    "#Read the csv file\n",
    "#crimes = pd.read_csv(\"../data/crimes.csv\",parse_dates=[\"Date Rptd\", \"DATE OCC\"])\n",
    "#parse_dates convert the \"Date Rptd\" and \"DATE OCC\" column to date type automatically. "
   ]
  },
  {
   "cell_type": "code",
   "execution_count": null,
   "id": "3",
   "metadata": {},
   "outputs": [],
   "source": [
    "#first 5 rows \n",
    "crimes.head()\n"
   ]
  },
  {
   "cell_type": "code",
   "execution_count": null,
   "id": "4",
   "metadata": {},
   "outputs": [],
   "source": [
    "crimes.isnull()"
   ]
  },
  {
   "cell_type": "code",
   "execution_count": null,
   "id": "5",
   "metadata": {},
   "outputs": [],
   "source": [
    "crimes.isna().sum()"
   ]
  },
  {
   "cell_type": "code",
   "execution_count": null,
   "id": "6",
   "metadata": {},
   "outputs": [],
   "source": [
    "crimes.info()"
   ]
  },
  {
   "cell_type": "markdown",
   "id": "7",
   "metadata": {},
   "source": [
    "## handling Missing values in the dataset \n",
    "1. Drop 5% or less of the total values for all the columns who have missing value"
   ]
  },
  {
   "cell_type": "code",
   "execution_count": null,
   "id": "8",
   "metadata": {},
   "outputs": [],
   "source": [
    "threshold = len(crimes) * .05 # 5% of the total value of the dataset\n",
    "col_to_drop = crimes.columns[crimes.isna().sum() <= threshold] # check the sum of missing values for all the columns \n",
    "crimes.dropna(subset=col_to_drop, inplace=True) #Drop the columns and update the dataframe "
   ]
  },
  {
   "cell_type": "code",
   "execution_count": null,
   "id": "9",
   "metadata": {},
   "outputs": [],
   "source": [
    "crimes.isna().sum()"
   ]
  },
  {
   "cell_type": "markdown",
   "id": "10",
   "metadata": {},
   "source": [
    "2. Replace all the columns with missing values of more than 5% of the total values by the median"
   ]
  },
  {
   "cell_type": "code",
   "execution_count": null,
   "id": "11",
   "metadata": {},
   "outputs": [],
   "source": [
    "median_Weapon_Used_Cd = crimes[\"Weapon Used Cd\"].median()\n",
    "median_Crm_Cd_2 = crimes[\"Crm Cd 2\"].median() #median value inside the \"Crm Cd 2\" column \n",
    "median_Crm_Cd_3 = crimes[\"Crm Cd 3\"].median() #median value inside the \"Crm Cd 2\" column \n",
    "median_Crm_Cd_4 = crimes[\"Crm Cd 4\"].median() #median value inside the \"Crm Cd 2\" column "
   ]
  },
  {
   "cell_type": "code",
   "execution_count": null,
   "id": "12",
   "metadata": {},
   "outputs": [],
   "source": [
    "#for Object type\n",
    "crimes[\"Vict Sex\"].fillna(\"Unknown\",inplace=True)\n",
    "crimes[\"Cross Street\"].fillna(\"Unknown\",inplace=True)\n",
    "crimes[\"Vict Descent\"].fillna(\"Unknown\",inplace=True)\n",
    "crimes[\"Weapon Desc\"].fillna(\"Unknown\",inplace=True)\n",
    "\n",
    "#For floats type\n",
    "crimes[\"Weapon Used Cd\"].fillna(median_Weapon_Used_Cd,inplace=True)\n",
    "crimes[\"Crm Cd 2\"].fillna(median_Crm_Cd_2, inplace=True)\n",
    "crimes[\"Crm Cd 3\"].fillna(median_Crm_Cd_3, inplace=True)\n",
    "crimes[\"Crm Cd 4\"].fillna(median_Crm_Cd_4, inplace=True)\n",
    "\n"
   ]
  },
  {
   "cell_type": "code",
   "execution_count": null,
   "id": "13",
   "metadata": {},
   "outputs": [],
   "source": [
    "crimes.isna().sum()"
   ]
  },
  {
   "cell_type": "code",
   "execution_count": null,
   "id": "14",
   "metadata": {},
   "outputs": [],
   "source": [
    "crimes.info()"
   ]
  }
 ],
 "metadata": {
  "kernelspec": {
   "display_name": "data-analysis-env",
   "language": "python",
   "name": "python3"
  },
  "language_info": {
   "codemirror_mode": {
    "name": "ipython",
    "version": 3
   },
   "file_extension": ".py",
   "mimetype": "text/x-python",
   "name": "python",
   "nbconvert_exporter": "python",
   "pygments_lexer": "ipython3",
   "version": "3.9.22"
  }
 },
 "nbformat": 4,
 "nbformat_minor": 5
}
