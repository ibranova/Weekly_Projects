{
 "cells": [
  {
   "cell_type": "markdown",
   "id": "0",
   "metadata": {},
   "source": [
    "# Los Angeles Police Departement Crimes Analysis "
   ]
  },
  {
   "cell_type": "code",
   "execution_count": 175,
   "id": "1",
   "metadata": {},
   "outputs": [],
   "source": [
    "#import all the libraries \n",
    "import pandas as pd     \n",
    "import numpy as np  \n",
    "import matplotlib.pyplot as plt     \n",
    "import seaborn as sns \n",
    "import zipfile\n"
   ]
  },
  {
   "cell_type": "code",
   "execution_count": 178,
   "id": "2",
   "metadata": {},
   "outputs": [
    {
     "ename": "FileNotFoundError",
     "evalue": "[Errno 2] No such file or directory: '../data/crimes.zip'",
     "output_type": "error",
     "traceback": [
      "\u001b[0;31m---------------------------------------------------------------------------\u001b[0m",
      "\u001b[0;31mFileNotFoundError\u001b[0m                         Traceback (most recent call last)",
      "Cell \u001b[0;32mIn[178], line 3\u001b[0m\n\u001b[1;32m      1\u001b[0m \u001b[38;5;66;03m# Unzip the file (adjust path if needed)\u001b[39;00m\n\u001b[1;32m      2\u001b[0m zip_path \u001b[38;5;241m=\u001b[39m \u001b[38;5;124m\"\u001b[39m\u001b[38;5;124m../data/crimes.zip\u001b[39m\u001b[38;5;124m\"\u001b[39m\n\u001b[0;32m----> 3\u001b[0m \u001b[38;5;28;01mwith\u001b[39;00m \u001b[43mzipfile\u001b[49m\u001b[38;5;241;43m.\u001b[39;49m\u001b[43mZipFile\u001b[49m\u001b[43m(\u001b[49m\u001b[43mzip_path\u001b[49m\u001b[43m,\u001b[49m\u001b[43m \u001b[49m\u001b[38;5;124;43m'\u001b[39;49m\u001b[38;5;124;43mr\u001b[39;49m\u001b[38;5;124;43m'\u001b[39;49m\u001b[43m)\u001b[49m \u001b[38;5;28;01mas\u001b[39;00m zip_ref:\n\u001b[1;32m      4\u001b[0m     zip_ref\u001b[38;5;241m.\u001b[39mextractall(\u001b[38;5;124m\"\u001b[39m\u001b[38;5;124m../data/\u001b[39m\u001b[38;5;124m\"\u001b[39m)\n\u001b[1;32m      5\u001b[0m \u001b[38;5;66;03m#Read the csv file\u001b[39;00m\n",
      "File \u001b[0;32m/opt/miniconda3/envs/data-analysis-env/lib/python3.9/zipfile.py:1250\u001b[0m, in \u001b[0;36mZipFile.__init__\u001b[0;34m(self, file, mode, compression, allowZip64, compresslevel, strict_timestamps)\u001b[0m\n\u001b[1;32m   1248\u001b[0m \u001b[38;5;28;01mwhile\u001b[39;00m \u001b[38;5;28;01mTrue\u001b[39;00m:\n\u001b[1;32m   1249\u001b[0m     \u001b[38;5;28;01mtry\u001b[39;00m:\n\u001b[0;32m-> 1250\u001b[0m         \u001b[38;5;28mself\u001b[39m\u001b[38;5;241m.\u001b[39mfp \u001b[38;5;241m=\u001b[39m \u001b[43mio\u001b[49m\u001b[38;5;241;43m.\u001b[39;49m\u001b[43mopen\u001b[49m\u001b[43m(\u001b[49m\u001b[43mfile\u001b[49m\u001b[43m,\u001b[49m\u001b[43m \u001b[49m\u001b[43mfilemode\u001b[49m\u001b[43m)\u001b[49m\n\u001b[1;32m   1251\u001b[0m     \u001b[38;5;28;01mexcept\u001b[39;00m \u001b[38;5;167;01mOSError\u001b[39;00m:\n\u001b[1;32m   1252\u001b[0m         \u001b[38;5;28;01mif\u001b[39;00m filemode \u001b[38;5;129;01min\u001b[39;00m modeDict:\n",
      "\u001b[0;31mFileNotFoundError\u001b[0m: [Errno 2] No such file or directory: '../data/crimes.zip'"
     ]
    }
   ],
   "source": [
    "# Unzip the file (adjust path if needed)\n",
    "zip_path = \"../data/crimes.zip\"\n",
    "with zipfile.ZipFile(zip_path, 'r') as zip_ref:\n",
    "    zip_ref.extractall(\"../data/\")\n",
    "#Read the csv file\n",
    "crimes = pd.read_csv(\"../data/crimes.csv\",parse_dates=[\"Date Rptd\", \"DATE OCC\"])\n",
    "#parse_dates convert the \"Date Rptd\" and \"DATE OCC\" column to date type automatically. "
   ]
  },
  {
   "cell_type": "code",
   "execution_count": null,
   "id": "3",
   "metadata": {},
   "outputs": [],
   "source": [
    "#first 5 rows \n",
    "crimes.head()\n"
   ]
  },
  {
   "cell_type": "code",
   "execution_count": null,
   "id": "4",
   "metadata": {},
   "outputs": [],
   "source": [
    "crimes.isnull()"
   ]
  },
  {
   "cell_type": "code",
   "execution_count": null,
   "id": "5",
   "metadata": {},
   "outputs": [],
   "source": [
    "crimes.isna().sum()"
   ]
  },
  {
   "cell_type": "code",
   "execution_count": null,
   "id": "6",
   "metadata": {},
   "outputs": [],
   "source": [
    "crimes.info()"
   ]
  },
  {
   "cell_type": "markdown",
   "id": "7",
   "metadata": {},
   "source": [
    "## handling Missing values in the dataset \n",
    "1. Drop 5% or less of the total values for all the columns who have missing value"
   ]
  },
  {
   "cell_type": "code",
   "execution_count": null,
   "id": "8",
   "metadata": {},
   "outputs": [],
   "source": [
    "threshold = len(crimes) * .05 # 5% of the total value of the dataset\n",
    "col_to_drop = crimes.columns[crimes.isna().sum() <= threshold] # check the sum of missing values for all the columns \n",
    "crimes.dropna(subset=col_to_drop, inplace=True) #Drop the columns and update the dataframe "
   ]
  },
  {
   "cell_type": "code",
   "execution_count": null,
   "id": "9",
   "metadata": {},
   "outputs": [],
   "source": [
    "crimes.isna().sum()"
   ]
  },
  {
   "cell_type": "markdown",
   "id": "10",
   "metadata": {},
   "source": [
    "2. Replace all the columns with missing values of more than 5% of the total values by the median"
   ]
  },
  {
   "cell_type": "code",
   "execution_count": null,
   "id": "11",
   "metadata": {},
   "outputs": [],
   "source": [
    "median_Weapon_Used_Cd = crimes[\"Weapon Used Cd\"].median()\n",
    "median_Crm_Cd_2 = crimes[\"Crm Cd 2\"].median() #median value inside the \"Crm Cd 2\" column \n",
    "median_Crm_Cd_3 = crimes[\"Crm Cd 3\"].median() #median value inside the \"Crm Cd 2\" column \n",
    "median_Crm_Cd_4 = crimes[\"Crm Cd 4\"].median() #median value inside the \"Crm Cd 2\" column "
   ]
  },
  {
   "cell_type": "code",
   "execution_count": null,
   "id": "12",
   "metadata": {},
   "outputs": [],
   "source": [
    "#for Object type\n",
    "crimes[\"Vict Sex\"].fillna(\"Unknown\",inplace=True)\n",
    "crimes[\"Cross Street\"].fillna(\"Unknown\",inplace=True)\n",
    "crimes[\"Vict Descent\"].fillna(\"Unknown\",inplace=True)\n",
    "crimes[\"Weapon Desc\"].fillna(\"Unknown\",inplace=True)\n",
    "\n",
    "#For floats type\n",
    "crimes[\"Weapon Used Cd\"].fillna(median_Weapon_Used_Cd,inplace=True)\n",
    "crimes[\"Crm Cd 2\"].fillna(median_Crm_Cd_2, inplace=True)\n",
    "crimes[\"Crm Cd 3\"].fillna(median_Crm_Cd_3, inplace=True)\n",
    "crimes[\"Crm Cd 4\"].fillna(median_Crm_Cd_4, inplace=True)\n",
    "\n"
   ]
  },
  {
   "cell_type": "code",
   "execution_count": null,
   "id": "13",
   "metadata": {},
   "outputs": [],
   "source": [
    "crimes.isna().sum()"
   ]
  },
  {
   "cell_type": "code",
   "execution_count": null,
   "id": "14",
   "metadata": {},
   "outputs": [],
   "source": [
    "crimes.info()"
   ]
  }
 ],
 "metadata": {
  "kernelspec": {
   "display_name": "data-analysis-env",
   "language": "python",
   "name": "python3"
  },
  "language_info": {
   "codemirror_mode": {
    "name": "ipython",
    "version": 3
   },
   "file_extension": ".py",
   "mimetype": "text/x-python",
   "name": "python",
   "nbconvert_exporter": "python",
   "pygments_lexer": "ipython3",
   "version": "3.9.22"
  }
 },
 "nbformat": 4,
 "nbformat_minor": 5
}
